{
 "cells": [
  {
   "cell_type": "markdown",
   "id": "7aeda4c4",
   "metadata": {},
   "source": [
    "**NIGHTTIME LIGHTS DIFFERENCE OF PHILIPPINES DURING 2019, 2020, and 2021**"
   ]
  },
  {
   "cell_type": "code",
   "execution_count": 19,
   "id": "fb40b112",
   "metadata": {},
   "outputs": [],
   "source": [
    "import geemap, ee\n",
    "\n",
    "try:\n",
    "    ee.Initialize()\n",
    "except Exception as e:\n",
    "    ee.Authenticate()\n",
    "    ee.Initialize()\n"
   ]
  },
  {
   "cell_type": "code",
   "execution_count": 20,
   "id": "f69113fb",
   "metadata": {},
   "outputs": [],
   "source": [
    "def viirs(x,y):\n",
    "    viirs_12 = ee.ImageCollection(\"NOAA/VIIRS/DNB/MONTHLY_V1/VCMSLCFG\").filterDate(x, y).select('avg_rad').first()\n",
    "    return viirs_12"
   ]
  },
  {
   "cell_type": "code",
   "execution_count": 35,
   "id": "21b35c44",
   "metadata": {},
   "outputs": [
    {
     "data": {
      "application/vnd.jupyter.widget-view+json": {
       "model_id": "e6f48f70f9db4a738daa2b664c0665f3",
       "version_major": 2,
       "version_minor": 0
      },
      "text/plain": [
       "Map(center=[11.692945087539863, 122.90241548028548], controls=(WidgetControl(options=['position', 'transparent…"
      ]
     },
     "metadata": {},
     "output_type": "display_data"
    }
   ],
   "source": [
    "viirs_2019_12 = viirs(\"2019-12-01\", \"2019-12-31\")\n",
    "viirs_2020_12 = viirs(\"2020-12-01\", \"2020-12-31\")\n",
    "viirs_2021_12 = viirs(\"2021-12-01\", \"2021-12-31\")\n",
    "\n",
    "\n",
    "#Getting the geometry of Philippines\n",
    "phl = ee.Feature(ee.FeatureCollection(\"FAO/GAUL/2015/level0\").filter(ee.Filter.eq('ADM0_NAME', 'Philippines')).first()).geometry()\n",
    "\n",
    "# clipping the VIIRS image to Philippines\n",
    "ntl_phl_2019 = viirs_2019_12.clip(phl)\n",
    "ntl_phl_2020 = viirs_2020_12.clip(phl)\n",
    "ntl_phl_2021 = viirs_2021_12.clip(phl)\n",
    "\n",
    "\n",
    "#initializing the map and centering it on the Philippines\n",
    "Map0 = geemap.Map()\n",
    "Map0.centerObject(phl, zoom = 6)\n",
    "Map0.add_basemap('SATELLITE')\n",
    "Map0.addLayer(ntl_phl_2019, {}, \"VIIRS-DNB December 2019\")\n",
    "Map0.addLayer(ntl_phl_2020, {}, \"VIIRS-DNB December 2020\")\n",
    "Map0.addLayer(ntl_phl_2021, {}, \"VIIRS-DNB December 2021\")\n",
    "Map0.addLayerControl()\n",
    "Map0"
   ]
  },
  {
   "cell_type": "code",
   "execution_count": 34,
   "id": "5d2005c4",
   "metadata": {},
   "outputs": [
    {
     "data": {
      "application/vnd.jupyter.widget-view+json": {
       "model_id": "4df358be661f4d0495bb8dd56c3df34d",
       "version_major": 2,
       "version_minor": 0
      },
      "text/plain": [
       "Map(center=[11.692945087539863, 122.90241548028548], controls=(WidgetControl(options=['position', 'transparent…"
      ]
     },
     "metadata": {},
     "output_type": "display_data"
    }
   ],
   "source": [
    "Map1 = geemap.Map()\n",
    "Map1.centerObject(phl, zoom = 6)\n",
    "Map1.add_basemap('SATELLITE')\n",
    "Map1.addLayer(ntl_phl_2019, {}, \"VIIRS-DNB December 2019\")\n",
    "Map1.addLayerControl()\n",
    "Map1"
   ]
  },
  {
   "cell_type": "code",
   "execution_count": 29,
   "id": "238460a3",
   "metadata": {},
   "outputs": [
    {
     "data": {
      "application/vnd.jupyter.widget-view+json": {
       "model_id": "c9c7cffbf6a54e18a6b68b43f0a5c1e1",
       "version_major": 2,
       "version_minor": 0
      },
      "text/plain": [
       "Map(center=[11.692945087539863, 122.90241548028548], controls=(WidgetControl(options=['position', 'transparent…"
      ]
     },
     "metadata": {},
     "output_type": "display_data"
    }
   ],
   "source": [
    "Map2 = geemap.Map()\n",
    "Map2.centerObject(phl, zoom = 6)\n",
    "Map2.add_basemap('SATELLITE')\n",
    "Map2.addLayer(ntl_phl_2020, {}, \"VIIRS-DNB December 2020\")\n",
    "Map2.addLayerControl()\n",
    "Map2"
   ]
  },
  {
   "cell_type": "code",
   "execution_count": 33,
   "id": "5fba42df",
   "metadata": {},
   "outputs": [
    {
     "data": {
      "application/vnd.jupyter.widget-view+json": {
       "model_id": "5ee35213b1aa44699742ca8039978930",
       "version_major": 2,
       "version_minor": 0
      },
      "text/plain": [
       "Map(center=[11.692945087539863, 122.90241548028548], controls=(WidgetControl(options=['position', 'transparent…"
      ]
     },
     "metadata": {},
     "output_type": "display_data"
    }
   ],
   "source": [
    "Map3 = geemap.Map()\n",
    "Map3.centerObject(phl, zoom = 6)\n",
    "Map3.add_basemap('SATELLITE')\n",
    "Map3.addLayer(ntl_phl_2021, {}, \"VIIRS-DNB December 2021\")\n",
    "Map3.addLayerControl()\n",
    "Map3"
   ]
  },
  {
   "cell_type": "code",
   "execution_count": null,
   "id": "2a207115",
   "metadata": {},
   "outputs": [],
   "source": []
  }
 ],
 "metadata": {
  "kernelspec": {
   "display_name": "Python 3 (ipykernel)",
   "language": "python",
   "name": "python3"
  },
  "language_info": {
   "codemirror_mode": {
    "name": "ipython",
    "version": 3
   },
   "file_extension": ".py",
   "mimetype": "text/x-python",
   "name": "python",
   "nbconvert_exporter": "python",
   "pygments_lexer": "ipython3",
   "version": "3.9.12"
  }
 },
 "nbformat": 4,
 "nbformat_minor": 5
}
